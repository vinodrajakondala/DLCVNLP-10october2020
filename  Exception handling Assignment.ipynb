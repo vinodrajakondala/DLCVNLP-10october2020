{
 "cells": [
  {
   "cell_type": "code",
   "execution_count": 1,
   "metadata": {},
   "outputs": [
    {
     "data": {
      "text/plain": [
       "'1. Write a function to compute 5/0 and use try/except to catch the exceptions.'"
      ]
     },
     "execution_count": 1,
     "metadata": {},
     "output_type": "execute_result"
    }
   ],
   "source": [
    "\"\"\"1. Write a function to compute 5/0 and use try/except to catch the exceptions.\"\"\""
   ]
  },
  {
   "cell_type": "code",
   "execution_count": 7,
   "metadata": {},
   "outputs": [
    {
     "name": "stdout",
     "output_type": "stream",
     "text": [
      "Error: Divsion by zero operation not allowed \n"
     ]
    }
   ],
   "source": [
    "def catExp():\n",
    "    try:\n",
    "        print(5/0)\n",
    "    except:\n",
    "        print(\"Error: Divsion by zero operation not allowed \")\n",
    "catExp()"
   ]
  },
  {
   "cell_type": "code",
   "execution_count": 2,
   "metadata": {},
   "outputs": [
    {
     "data": {
      "text/plain": [
       "'2. Implement a Python program to generate all sentences where subject is in\\n[\"Americans\", \"Indians\"] and verb is in [\"Play\", \"watch\"] and the object is in\\n[\"Baseball\",\"cricket\"].\\nHint: Subject,Verb and Object should be declared in the program as shown below.\\nsubjects=[\"Americans \",\"Indians\"]\\nverbs=[\"play\",\"watch\"]\\nobjects=[\"Baseball\",\"Cricket\"]\\nOutput should come as below:\\nAmericans play Baseball.\\nAmericans play Cricket.\\nAmericans watch Baseball.\\nAmericans watch Cricket.\\nIndians play Baseball.\\nIndians play Cricket.\\nIndians watch Baseball.\\nIndians watch Cricket.'"
      ]
     },
     "execution_count": 2,
     "metadata": {},
     "output_type": "execute_result"
    }
   ],
   "source": [
    "\"\"\"2. Implement a Python program to generate all sentences where subject is in\n",
    "[\"Americans\", \"Indians\"] and verb is in [\"Play\", \"watch\"] and the object is in\n",
    "[\"Baseball\",\"cricket\"].\n",
    "Hint: Subject,Verb and Object should be declared in the program as shown below.\n",
    "subjects=[\"Americans \",\"Indians\"]\n",
    "verbs=[\"play\",\"watch\"]\n",
    "objects=[\"Baseball\",\"Cricket\"]\n",
    "Output should come as below:\n",
    "Americans play Baseball.\n",
    "Americans play Cricket.\n",
    "Americans watch Baseball.\n",
    "Americans watch Cricket.\n",
    "Indians play Baseball.\n",
    "Indians play Cricket.\n",
    "Indians watch Baseball.\n",
    "Indians watch Cricket.\"\"\""
   ]
  },
  {
   "cell_type": "code",
   "execution_count": 12,
   "metadata": {},
   "outputs": [
    {
     "name": "stdout",
     "output_type": "stream",
     "text": [
      "Americans play Baseball\n",
      "Americans play Cricket\n",
      "Americans watch Baseball\n",
      "Americans watch Cricket\n",
      "Indians play Baseball\n",
      "Indians play Cricket\n",
      "Indians watch Baseball\n",
      "Indians watch Cricket\n"
     ]
    }
   ],
   "source": [
    "def subVerObj(sub,veb,obj):\n",
    "    for i in sub:\n",
    "        for j in veb:\n",
    "            for k in obj:\n",
    "                print(i+\" \"+j+\" \"+k)\n",
    "subVerObj([\"Americans\",\"Indians\"],[\"play\",\"watch\"],[\"Baseball\",\"Cricket\"])"
   ]
  },
  {
   "cell_type": "code",
   "execution_count": 17,
   "metadata": {},
   "outputs": [
    {
     "data": {
      "text/plain": [
       "'********************************************************** THE END **********************************************************'"
      ]
     },
     "execution_count": 17,
     "metadata": {},
     "output_type": "execute_result"
    }
   ],
   "source": [
    "s=\" THE END \"\n",
    "s.center(125,\"*\")"
   ]
  },
  {
   "cell_type": "code",
   "execution_count": null,
   "metadata": {},
   "outputs": [],
   "source": []
  }
 ],
 "metadata": {
  "kernelspec": {
   "display_name": "Python 3",
   "language": "python",
   "name": "python3"
  },
  "language_info": {
   "codemirror_mode": {
    "name": "ipython",
    "version": 3
   },
   "file_extension": ".py",
   "mimetype": "text/x-python",
   "name": "python",
   "nbconvert_exporter": "python",
   "pygments_lexer": "ipython3",
   "version": "3.8.3"
  }
 },
 "nbformat": 4,
 "nbformat_minor": 4
}
