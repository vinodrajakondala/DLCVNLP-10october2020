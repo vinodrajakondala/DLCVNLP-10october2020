{
 "cells": [
  {
   "cell_type": "code",
   "execution_count": 1,
   "metadata": {},
   "outputs": [
    {
     "data": {
      "text/plain": [
       "'1.Write a program which will find all such numbers which are divisible by 7 but are not a\\nmultiple of 5, between 2000 and 3200 (both included). The numbers obtained should be printed\\nin a comma-separated sequence on a single line.'"
      ]
     },
     "execution_count": 1,
     "metadata": {},
     "output_type": "execute_result"
    }
   ],
   "source": [
    "\"\"\"1.Write a program which will find all such numbers which are divisible by 7 but are not a\n",
    "multiple of 5, between 2000 and 3200 (both included). The numbers obtained should be printed\n",
    "in a comma-separated sequence on a single line.\"\"\""
   ]
  },
  {
   "cell_type": "code",
   "execution_count": 2,
   "metadata": {},
   "outputs": [
    {
     "name": "stdout",
     "output_type": "stream",
     "text": [
      "2030,2065,2100,2135,2170,2205,2240,2275,2310,2345,2380,2415,2450,2485,2520,2555,2590,2625,2660,2695,2730,2765,2800,2835,2870,2905,2940,2975,3010,3045,3080,3115,3150,3185\n"
     ]
    }
   ],
   "source": [
    "a=[]\n",
    "for i in range(2000,3201):\n",
    "    if i%5==0 and i%7==0:\n",
    "        a.append(str(i))\n",
    "        \n",
    "print(\",\".join(a))"
   ]
  },
  {
   "cell_type": "code",
   "execution_count": 3,
   "metadata": {},
   "outputs": [
    {
     "data": {
      "text/plain": [
       "\"2. Write a Python program to accept the user's first and last name and then getting them\\nprinted in the the reverse order with a space between first name and last name.\""
      ]
     },
     "execution_count": 3,
     "metadata": {},
     "output_type": "execute_result"
    }
   ],
   "source": [
    "\"\"\"2. Write a Python program to accept the user's first and last name and then getting them\n",
    "printed in the the reverse order with a space between first name and last name.\"\"\""
   ]
  },
  {
   "cell_type": "code",
   "execution_count": 4,
   "metadata": {},
   "outputs": [
    {
     "name": "stdout",
     "output_type": "stream",
     "text": [
      "Enter First name Jhon\n",
      "Enter Last name  Vettori\n",
      "Vettori Jhon\n"
     ]
    }
   ],
   "source": [
    "N=[]\n",
    "UFN=input(\"Enter First name \")\n",
    "N.append(UFN)\n",
    "ULN=input(\"Enter Last name  \")\n",
    "N.append(ULN)\n",
    "print(\" \".join(N[::-1]))\n"
   ]
  },
  {
   "cell_type": "code",
   "execution_count": 5,
   "metadata": {},
   "outputs": [
    {
     "data": {
      "text/plain": [
       "'3. Write a Python program to find the volume of a sphere with diameter 12 cm.\\nV=4/3*pi*r*r*r'"
      ]
     },
     "execution_count": 5,
     "metadata": {},
     "output_type": "execute_result"
    }
   ],
   "source": [
    "\"\"\"3. Write a Python program to find the volume of a sphere with diameter 12 cm.\n",
    "V=4/3*pi*r*r*r\"\"\""
   ]
  },
  {
   "cell_type": "code",
   "execution_count": 6,
   "metadata": {},
   "outputs": [
    {
     "name": "stdout",
     "output_type": "stream",
     "text": [
      "Enter radius of Sphere  5\n",
      "volume of Sphere is 523.599\n"
     ]
    }
   ],
   "source": [
    "import math\n",
    "r=int(input(\"Enter radius of Sphere  \"))\n",
    "v=4/3*math.pi*(r**3)\n",
    "print(\"volume of Sphere is {:.3f}\".format(v))\n"
   ]
  },
  {
   "cell_type": "code",
   "execution_count": null,
   "metadata": {},
   "outputs": [],
   "source": []
  }
 ],
 "metadata": {
  "kernelspec": {
   "display_name": "Python 3",
   "language": "python",
   "name": "python3"
  },
  "language_info": {
   "codemirror_mode": {
    "name": "ipython",
    "version": 3
   },
   "file_extension": ".py",
   "mimetype": "text/x-python",
   "name": "python",
   "nbconvert_exporter": "python",
   "pygments_lexer": "ipython3",
   "version": "3.8.3"
  }
 },
 "nbformat": 4,
 "nbformat_minor": 4
}
