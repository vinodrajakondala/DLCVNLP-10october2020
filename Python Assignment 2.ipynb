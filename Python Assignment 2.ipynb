{
 "cells": [
  {
   "cell_type": "code",
   "execution_count": 2,
   "metadata": {},
   "outputs": [
    {
     "data": {
      "text/plain": [
       "'1. Create the below pattern using nested for loop in Python.\\n*\\n* *\\n* * *\\n* * * *\\n* * * * *\\n* * * *\\n* * *\\n* *\\n*\\n'"
      ]
     },
     "execution_count": 2,
     "metadata": {},
     "output_type": "execute_result"
    }
   ],
   "source": [
    "\"\"\"1. Create the below pattern using nested for loop in Python.\n",
    "*\n",
    "* *\n",
    "* * *\n",
    "* * * *\n",
    "* * * * *\n",
    "* * * *\n",
    "* * *\n",
    "* *\n",
    "*\n",
    "\"\"\""
   ]
  },
  {
   "cell_type": "code",
   "execution_count": 12,
   "metadata": {},
   "outputs": [
    {
     "name": "stdout",
     "output_type": "stream",
     "text": [
      "\n",
      "* \n",
      "* * \n",
      "* * * \n",
      "* * * * \n",
      "* * * * * \n",
      "* * * * * * \n",
      "* * * * * \n",
      "* * * * \n",
      "* * * \n",
      "* * \n",
      "* \n"
     ]
    }
   ],
   "source": [
    "def pattern(n):\n",
    "    for i in range(n):\n",
    "        print(\"* \"*i)\n",
    "        if n==i+1:\n",
    "            for j in range(n,0,-1):\n",
    "                print(\"* \"*j)\n",
    "pattern(6)"
   ]
  },
  {
   "cell_type": "code",
   "execution_count": 3,
   "metadata": {},
   "outputs": [
    {
     "data": {
      "text/plain": [
       "'2. Write a Python program to reverse a word after accepting the input from the user.\\nSample Output:\\n    Input word: ineuron\\n    Output: norueni\\n    '"
      ]
     },
     "execution_count": 3,
     "metadata": {},
     "output_type": "execute_result"
    }
   ],
   "source": [
    "\"\"\"2. Write a Python program to reverse a word after accepting the input from the user.\n",
    "Sample Output:\n",
    "    Input word: ineuron\n",
    "    Output: norueni\n",
    "    \"\"\"\n"
   ]
  },
  {
   "cell_type": "code",
   "execution_count": 19,
   "metadata": {},
   "outputs": [
    {
     "name": "stdout",
     "output_type": "stream",
     "text": [
      "Input word:\tineuron\n",
      "Output    :\tnorueni\n"
     ]
    }
   ],
   "source": [
    "a=input(\"Input word:\\t\")\n",
    "\n",
    "b=[]\n",
    "c=[]\n",
    "for i in a:\n",
    "    b.append(i)\n",
    "for i in b[::-1]:\n",
    "    c.append(i)\n",
    "c=\"\".join(c)\n",
    "print(\"Output    :\\t{}\".format(c))\n",
    "\n",
    "    "
   ]
  },
  {
   "cell_type": "code",
   "execution_count": null,
   "metadata": {},
   "outputs": [],
   "source": []
  }
 ],
 "metadata": {
  "kernelspec": {
   "display_name": "Python 3",
   "language": "python",
   "name": "python3"
  },
  "language_info": {
   "codemirror_mode": {
    "name": "ipython",
    "version": 3
   },
   "file_extension": ".py",
   "mimetype": "text/x-python",
   "name": "python",
   "nbconvert_exporter": "python",
   "pygments_lexer": "ipython3",
   "version": "3.8.3"
  }
 },
 "nbformat": 4,
 "nbformat_minor": 4
}
