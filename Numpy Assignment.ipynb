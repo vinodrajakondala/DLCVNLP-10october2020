{
 "cells": [
  {
   "cell_type": "code",
   "execution_count": 6,
   "metadata": {},
   "outputs": [
    {
     "data": {
      "text/plain": [
       "'\\nWrite a function so that the columns of the output matrix are powers of the input\\nvector.\\nThe order of the powers is determined by the increasing boolean argument. Specifically, when\\nincreasing is False, the i-th output column is the input vector raised element-wise to the power\\nof N - i - 1.\\n\\nHINT: Such a matrix with a geometric progression in each row is named for Alexandre-\\nTheophile Vandermonde.\\n\\n'"
      ]
     },
     "execution_count": 6,
     "metadata": {},
     "output_type": "execute_result"
    }
   ],
   "source": [
    "\"\"\"\n",
    "Write a function so that the columns of the output matrix are powers of the input\n",
    "vector.\n",
    "The order of the powers is determined by the increasing boolean argument. Specifically, when\n",
    "increasing is False, the i-th output column is the input vector raised element-wise to the power\n",
    "of N - i - 1.\n",
    "\n",
    "HINT: Such a matrix with a geometric progression in each row is named for Alexandre-\n",
    "Theophile Vandermonde.\n",
    "\n",
    "\"\"\""
   ]
  },
  {
   "cell_type": "code",
   "execution_count": 96,
   "metadata": {},
   "outputs": [
    {
     "data": {
      "text/plain": [
       "array([[  1,   1,   1,   1],\n",
       "       [  1,   2,   4,   8],\n",
       "       [  1,   3,   9,  27],\n",
       "       [  1,   4,  16,  64],\n",
       "       [  1,   5,  25, 125]])"
      ]
     },
     "execution_count": 96,
     "metadata": {},
     "output_type": "execute_result"
    }
   ],
   "source": [
    "import numpy as np\n",
    "def atvMat(x,n):\n",
    "    import numpy as np\n",
    "    y=np.vstack((pow(x,0),x))\n",
    "    for i in range(2,n): \n",
    "        y=np.vstack((y,pow(x,i)))\n",
    "    return(y.T)\n",
    "        \n",
    "        \n",
    "atvMat(np.array([[1,2,3,4,5]]),4)"
   ]
  },
  {
   "cell_type": "code",
   "execution_count": 95,
   "metadata": {},
   "outputs": [
    {
     "data": {
      "text/plain": [
       "'\\n\\nQuestion: Write a function to find moving average in an array over a window:\\nTest it over [3, 5, 7, 2, 8, 10, 11, 65, 72, 81, 99, 100, 150] and window of 3.\\n\\n'"
      ]
     },
     "execution_count": 95,
     "metadata": {},
     "output_type": "execute_result"
    }
   ],
   "source": [
    "\"\"\"\n",
    "Problem Statement 2:\n",
    "Given a sequence of n values x1, x2, ..., xn and a window size k>0, the k-th moving average of\n",
    "the given sequence is defined as follows:\n",
    "The moving average sequence has n-k+1 elements as shown below.\n",
    "The moving averages with k=4 of a ten-value sequence (n=10) is shown below\n",
    "i 1 2 3 4 5 6 7 8 9 10\n",
    "===== == == == == == == == == == ==\n",
    "Input 10 20 30 40 50 60 70 80 90 100\n",
    "y1 25 = (10+20+30+40)/4\n",
    "y2 35 = (20+30+40+50)/4\n",
    "y3 45 = (30+40+50+60)/4\n",
    "y4 55 = (40+50+60+70)/4\n",
    "y5 65 = (50+60+70+80)/4\n",
    "y6 75 = (60+70+80+90)/4\n",
    "y7 85 = (70+80+90+100)/4\n",
    "Thus, the moving average sequence has n-k+1=10-4+1=7 values.\n",
    "\"\"\"\n",
    "\"\"\"\n",
    "\n",
    "Question: Write a function to find moving average in an array over a window:\n",
    "Test it over [3, 5, 7, 2, 8, 10, 11, 65, 72, 81, 99, 100, 150] and window of 3.\n",
    "\n",
    "\"\"\""
   ]
  },
  {
   "cell_type": "code",
   "execution_count": 137,
   "metadata": {},
   "outputs": [
    {
     "name": "stdout",
     "output_type": "stream",
     "text": [
      "Moving average over a window \n",
      "-----------------------------\n",
      "y1  5.00  = [3 5 7]/3\n",
      "y2  4.67  = [5 7 2]/3\n",
      "y3  5.67  = [7 2 8]/3\n",
      "y4  6.67  = [ 2  8 10]/3\n",
      "y5  9.67  = [ 8 10 11]/3\n",
      "y6  28.67  = [10 11 65]/3\n",
      "y7  49.33  = [11 65 72]/3\n",
      "y8  72.67  = [65 72 81]/3\n",
      "y9  84.00  = [72 81 99]/3\n",
      "y10  93.33  = [ 81  99 100]/3\n",
      "y11  116.33  = [ 99 100 150]/3\n"
     ]
    }
   ],
   "source": [
    "\n",
    "import numpy as np\n",
    "def movAVG(seq,k):\n",
    "    import numpy as np\n",
    "    for j in range(len(seq)-k+1):\n",
    "        p=seq[j:j+k]\n",
    "        avg=p.sum()/k\n",
    "        print(\"y{}  {:.2f}  = {}/{}\".format(j+1,avg,p,k))\n",
    "\n",
    "a=np.array([3, 5, 7, 2, 8, 10, 11, 65, 72, 81, 99, 100, 150])\n",
    "print(\"Moving average over a window \")\n",
    "print(len(\"Moving average over a window \")*\"-\")\n",
    "movAVG(a,3)\n",
    "        \n",
    "    "
   ]
  },
  {
   "cell_type": "code",
   "execution_count": null,
   "metadata": {},
   "outputs": [],
   "source": []
  }
 ],
 "metadata": {
  "kernelspec": {
   "display_name": "Python 3",
   "language": "python",
   "name": "python3"
  },
  "language_info": {
   "codemirror_mode": {
    "name": "ipython",
    "version": 3
   },
   "file_extension": ".py",
   "mimetype": "text/x-python",
   "name": "python",
   "nbconvert_exporter": "python",
   "pygments_lexer": "ipython3",
   "version": "3.8.3"
  }
 },
 "nbformat": 4,
 "nbformat_minor": 4
}
